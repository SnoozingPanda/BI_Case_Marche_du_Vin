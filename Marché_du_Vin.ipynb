{
  "nbformat": 4,
  "nbformat_minor": 0,
  "metadata": {
    "colab": {
      "provenance": []
    },
    "kernelspec": {
      "name": "python3",
      "display_name": "Python 3"
    },
    "language_info": {
      "name": "python"
    }
  },
  "cells": [
    {
      "cell_type": "markdown",
      "metadata": {
        "id": "FN4XIIRypsE7"
      },
      "source": [
        "# Étude de marché - Vin _(8 heures)_"
      ]
    },
    {
      "cell_type": "markdown",
      "metadata": {
        "id": "XcpZ5zmhshVW"
      },
      "source": [
        "Le client, le Domaine des Croix, cherche à se lancer sur le marché américain . Il souhaite donc **définir le prix** de ses bouteilles de vin **pour être compétitif sur le marché américain**. Il a récupéré un jeu de données de 130k bouteilles de vin, avec les cépages, les pays et région de production, les millésimes (c'est-à-dire les années de production), ainsi que des notes (\"points\") et descriptifs d'oenologues (les spécialistes du vin), et le prix moyen en dollars de toutes ces bouteilles sur le marché américain.\n",
        "\n",
        "**L'objectif sera de faire une présentation de l'analyse du marché, et du prix que vous conseillez de fixer pour les vins du client.** Le client n'est pas data analyst, mais souhaiterait comprendre la démarche. Il faudra donc s'attacher à expliquer comment les prix ont été fixés, sans rentrer dans un trop grand niveau technique, autrement dit : vulgariser.\n",
        "\n",
        "\n",
        "\n",
        "\n",
        "## Jeux de données\n",
        "- Dataset des 130k vins : https://github.com/WildCodeSchool/wilddata/raw/main/wine.zip\n",
        "- Dataset de la bouteille de vin que le client aimerait proposer sur le marché américain : https://raw.githubusercontent.com/WildCodeSchool/wilddata/main/domaine_des_croix.csv\n",
        "\n",
        "\n",
        "## Livrables attendus\n",
        "Le client souhaite une présentation (et non pas du code)\n",
        "La présentation contiendra a minima ces éléments :\n",
        "- Rappel du contexte et de la problématique\n",
        "- Analyse exploratoire des données\n",
        "- Méthodologie, outils et langages utilisés\n",
        "- Présentation de la partie technique et du code créé, si code il y a, pour cette analyse\n",
        "- Votre tableau de bord contient des graphiques\n",
        "- Votre tableau de bord contient au moins une visualisation de données interactive\n",
        "- Votre tableau de bord contient au moins une carte représentant des informations géographiques\n",
        "- Votre tableau de bord contient au moins un tableau croisé\n",
        "- L'ensemble des graphiques et visuels doivent être lisible par tous (prise en compte des personne en situation de handicap visuel)\n",
        "- Réponse à la question métier : proposition de prix ou de fourchette de prix au client pour être correctement positionné face à la concurrence sur le marché américain"
      ]
    },
    {
      "cell_type": "markdown",
      "metadata": {
        "id": "anHDXJXk3AUN"
      },
      "source": [
        "Effectuez tout d'abord la trame ci-dessous. Puis, si vous avez des bonnes idées à proposer au client, elles sont évidemment les bienvenues.\n",
        "\n"
      ]
    },
    {
      "cell_type": "markdown",
      "metadata": {
        "id": "QdT1jQZls0-F"
      },
      "source": [
        "## Préparation des données et exploration des données"
      ]
    },
    {
      "cell_type": "markdown",
      "metadata": {
        "id": "hc2298pcs4os"
      },
      "source": [
        "## Analyse du marché\n",
        "Le Domaine des Croix souhaiterait une analyse descriptive du marché du vin. Vous allez donc réaliser un ensemble de dataviz, avec l'outil de votre choix (Seaborn, Plotly, Excel, PowerBI, Tableau, etc...). Vous pouvez par exemple intégrer dans votre tableau de bord:\n",
        "- la répartition du nombre de vins par pays\n",
        "- les pays qui ont les meilleures notes\n",
        "- les moyennes de notes par cépage\n",
        "- la répartition par décile\n",
        "- etc...\n",
        "\n"
      ]
    },
    {
      "cell_type": "markdown",
      "metadata": {
        "id": "L15j7boQs8zj"
      },
      "source": [
        "## Analyse comparative\n",
        "\n",
        "L'objectif ici sera de comparer chacun des vins du client par rapport à ses concurrents sur le marché. Par exemple, comparer les tarifs pratiqués pour les vins français, puis de plus en plus précisément, les vins de Bourgogne puisque notre client est en Bourgogne, puis les Pinot Noir bourguignons de la même année.\n",
        "N'hésitez pas à être original dans la présentation et les dataviz utilisées.\n",
        "\n",
        "## Proposition de valeur\n",
        "\n",
        "Avec le tableau de bord que vous lui avez fourni, le client a une idée précise de ses concurrents. Faites lui une proposition de prix en fonction de sa volonté de positionnement (par exemple : \"si vous souhaitez vous positionner sur le haut de gamme, les 25% les plus chers de vos concurrents sont à ce tarif, nous vous conseillons donc de vous aligner sur ce prix\").\n",
        "\n",
        "## Qualité esthétique du tableau de bord\n",
        "\n",
        "Essayez de garder un oeil critique et visuel sur votre tableau de bord. La forme compte autant que le fond pour le client qui n'est pas data analyst. Pensez donc à \"vendre\" votre analyse. Par exemple, avec des couleurs s'inspirant du milieu vinicole, des dataviz originales, etc..."
      ]
    },
    {
      "cell_type": "markdown",
      "metadata": {
        "id": "cXlNhpBAs_Rr"
      },
      "source": [
        "## Data processing"
      ]
    },
    {
      "cell_type": "code",
      "execution_count": null,
      "metadata": {
        "colab": {
          "base_uri": "https://localhost:8080/",
          "height": 379
        },
        "id": "r71BcQC0pyHN",
        "outputId": "fb2221f7-6ad2-4db1-ca0e-b6d300fe4fc1"
      },
      "outputs": [
        {
          "data": {
            "application/vnd.google.colaboratory.intrinsic+json": {
              "type": "dataframe",
              "variable_name": "df"
            },
            "text/html": [
              "\n",
              "  <div id=\"df-ef4767e0-cf6b-4a95-bb58-048191d97fdf\" class=\"colab-df-container\">\n",
              "    <div>\n",
              "<style scoped>\n",
              "    .dataframe tbody tr th:only-of-type {\n",
              "        vertical-align: middle;\n",
              "    }\n",
              "\n",
              "    .dataframe tbody tr th {\n",
              "        vertical-align: top;\n",
              "    }\n",
              "\n",
              "    .dataframe thead th {\n",
              "        text-align: right;\n",
              "    }\n",
              "</style>\n",
              "<table border=\"1\" class=\"dataframe\">\n",
              "  <thead>\n",
              "    <tr style=\"text-align: right;\">\n",
              "      <th></th>\n",
              "      <th>country</th>\n",
              "      <th>description</th>\n",
              "      <th>designation</th>\n",
              "      <th>points</th>\n",
              "      <th>price</th>\n",
              "      <th>province</th>\n",
              "      <th>region_1</th>\n",
              "      <th>region_2</th>\n",
              "      <th>taster_name</th>\n",
              "      <th>taster_twitter_handle</th>\n",
              "      <th>title</th>\n",
              "      <th>variety</th>\n",
              "      <th>winery</th>\n",
              "    </tr>\n",
              "  </thead>\n",
              "  <tbody>\n",
              "    <tr>\n",
              "      <th>0</th>\n",
              "      <td>Italy</td>\n",
              "      <td>Aromas include tropical fruit, broom, brimston...</td>\n",
              "      <td>Vulkà Bianco</td>\n",
              "      <td>87</td>\n",
              "      <td>NaN</td>\n",
              "      <td>Sicily &amp; Sardinia</td>\n",
              "      <td>Etna</td>\n",
              "      <td>NaN</td>\n",
              "      <td>Kerin O’Keefe</td>\n",
              "      <td>@kerinokeefe</td>\n",
              "      <td>Nicosia 2019 Vulkà Bianco  (Etna)</td>\n",
              "      <td>White Blend</td>\n",
              "      <td>Nicosia</td>\n",
              "    </tr>\n",
              "    <tr>\n",
              "      <th>1</th>\n",
              "      <td>Portugal</td>\n",
              "      <td>This is ripe and fruity, a wine that is smooth...</td>\n",
              "      <td>Avidagos</td>\n",
              "      <td>87</td>\n",
              "      <td>20.0</td>\n",
              "      <td>Douro</td>\n",
              "      <td>NaN</td>\n",
              "      <td>NaN</td>\n",
              "      <td>Roger Voss</td>\n",
              "      <td>@vossroger</td>\n",
              "      <td>Quinta dos Avidagos 2017 Avidagos Red (Douro)</td>\n",
              "      <td>Portuguese Red</td>\n",
              "      <td>Quinta dos Avidagos</td>\n",
              "    </tr>\n",
              "    <tr>\n",
              "      <th>2</th>\n",
              "      <td>US</td>\n",
              "      <td>Tart and snappy, the flavors of lime flesh and...</td>\n",
              "      <td>NaN</td>\n",
              "      <td>87</td>\n",
              "      <td>18.0</td>\n",
              "      <td>Oregon</td>\n",
              "      <td>Willamette Valley</td>\n",
              "      <td>Willamette Valley</td>\n",
              "      <td>Paul Gregutt</td>\n",
              "      <td>@paulgwine</td>\n",
              "      <td>Rainstorm 2019 Pinot Gris (Willamette Valley)</td>\n",
              "      <td>Pinot Gris</td>\n",
              "      <td>Rainstorm</td>\n",
              "    </tr>\n",
              "    <tr>\n",
              "      <th>3</th>\n",
              "      <td>US</td>\n",
              "      <td>Pineapple rind, lemon pith and orange blossom ...</td>\n",
              "      <td>Reserve Late Harvest</td>\n",
              "      <td>87</td>\n",
              "      <td>18.0</td>\n",
              "      <td>Michigan</td>\n",
              "      <td>Lake Michigan Shore</td>\n",
              "      <td>NaN</td>\n",
              "      <td>Alexander Peartree</td>\n",
              "      <td>NaN</td>\n",
              "      <td>St. Julian 2019 Reserve Late Harvest Riesling ...</td>\n",
              "      <td>Riesling</td>\n",
              "      <td>St. Julian</td>\n",
              "    </tr>\n",
              "    <tr>\n",
              "      <th>4</th>\n",
              "      <td>US</td>\n",
              "      <td>Much like the regular bottling from 2016, this...</td>\n",
              "      <td>Vintner's Reserve Wild Child Block</td>\n",
              "      <td>87</td>\n",
              "      <td>44.0</td>\n",
              "      <td>Oregon</td>\n",
              "      <td>Willamette Valley</td>\n",
              "      <td>Willamette Valley</td>\n",
              "      <td>Paul Gregutt</td>\n",
              "      <td>@paulgwine</td>\n",
              "      <td>Sweet Cheeks 2018 Vintner's Reserve Wild Child...</td>\n",
              "      <td>Pinot Noir</td>\n",
              "      <td>Sweet Cheeks</td>\n",
              "    </tr>\n",
              "  </tbody>\n",
              "</table>\n",
              "</div>\n",
              "    <div class=\"colab-df-buttons\">\n",
              "\n",
              "  <div class=\"colab-df-container\">\n",
              "    <button class=\"colab-df-convert\" onclick=\"convertToInteractive('df-ef4767e0-cf6b-4a95-bb58-048191d97fdf')\"\n",
              "            title=\"Convert this dataframe to an interactive table.\"\n",
              "            style=\"display:none;\">\n",
              "\n",
              "  <svg xmlns=\"http://www.w3.org/2000/svg\" height=\"24px\" viewBox=\"0 -960 960 960\">\n",
              "    <path d=\"M120-120v-720h720v720H120Zm60-500h600v-160H180v160Zm220 220h160v-160H400v160Zm0 220h160v-160H400v160ZM180-400h160v-160H180v160Zm440 0h160v-160H620v160ZM180-180h160v-160H180v160Zm440 0h160v-160H620v160Z\"/>\n",
              "  </svg>\n",
              "    </button>\n",
              "\n",
              "  <style>\n",
              "    .colab-df-container {\n",
              "      display:flex;\n",
              "      gap: 12px;\n",
              "    }\n",
              "\n",
              "    .colab-df-convert {\n",
              "      background-color: #E8F0FE;\n",
              "      border: none;\n",
              "      border-radius: 50%;\n",
              "      cursor: pointer;\n",
              "      display: none;\n",
              "      fill: #1967D2;\n",
              "      height: 32px;\n",
              "      padding: 0 0 0 0;\n",
              "      width: 32px;\n",
              "    }\n",
              "\n",
              "    .colab-df-convert:hover {\n",
              "      background-color: #E2EBFA;\n",
              "      box-shadow: 0px 1px 2px rgba(60, 64, 67, 0.3), 0px 1px 3px 1px rgba(60, 64, 67, 0.15);\n",
              "      fill: #174EA6;\n",
              "    }\n",
              "\n",
              "    .colab-df-buttons div {\n",
              "      margin-bottom: 4px;\n",
              "    }\n",
              "\n",
              "    [theme=dark] .colab-df-convert {\n",
              "      background-color: #3B4455;\n",
              "      fill: #D2E3FC;\n",
              "    }\n",
              "\n",
              "    [theme=dark] .colab-df-convert:hover {\n",
              "      background-color: #434B5C;\n",
              "      box-shadow: 0px 1px 3px 1px rgba(0, 0, 0, 0.15);\n",
              "      filter: drop-shadow(0px 1px 2px rgba(0, 0, 0, 0.3));\n",
              "      fill: #FFFFFF;\n",
              "    }\n",
              "  </style>\n",
              "\n",
              "    <script>\n",
              "      const buttonEl =\n",
              "        document.querySelector('#df-ef4767e0-cf6b-4a95-bb58-048191d97fdf button.colab-df-convert');\n",
              "      buttonEl.style.display =\n",
              "        google.colab.kernel.accessAllowed ? 'block' : 'none';\n",
              "\n",
              "      async function convertToInteractive(key) {\n",
              "        const element = document.querySelector('#df-ef4767e0-cf6b-4a95-bb58-048191d97fdf');\n",
              "        const dataTable =\n",
              "          await google.colab.kernel.invokeFunction('convertToInteractive',\n",
              "                                                    [key], {});\n",
              "        if (!dataTable) return;\n",
              "\n",
              "        const docLinkHtml = 'Like what you see? Visit the ' +\n",
              "          '<a target=\"_blank\" href=https://colab.research.google.com/notebooks/data_table.ipynb>data table notebook</a>'\n",
              "          + ' to learn more about interactive tables.';\n",
              "        element.innerHTML = '';\n",
              "        dataTable['output_type'] = 'display_data';\n",
              "        await google.colab.output.renderOutput(dataTable, element);\n",
              "        const docLink = document.createElement('div');\n",
              "        docLink.innerHTML = docLinkHtml;\n",
              "        element.appendChild(docLink);\n",
              "      }\n",
              "    </script>\n",
              "  </div>\n",
              "\n",
              "\n",
              "<div id=\"df-8a2a9797-1b70-4a8f-b417-dd6db4de5771\">\n",
              "  <button class=\"colab-df-quickchart\" onclick=\"quickchart('df-8a2a9797-1b70-4a8f-b417-dd6db4de5771')\"\n",
              "            title=\"Suggest charts\"\n",
              "            style=\"display:none;\">\n",
              "\n",
              "<svg xmlns=\"http://www.w3.org/2000/svg\" height=\"24px\"viewBox=\"0 0 24 24\"\n",
              "     width=\"24px\">\n",
              "    <g>\n",
              "        <path d=\"M19 3H5c-1.1 0-2 .9-2 2v14c0 1.1.9 2 2 2h14c1.1 0 2-.9 2-2V5c0-1.1-.9-2-2-2zM9 17H7v-7h2v7zm4 0h-2V7h2v10zm4 0h-2v-4h2v4z\"/>\n",
              "    </g>\n",
              "</svg>\n",
              "  </button>\n",
              "\n",
              "<style>\n",
              "  .colab-df-quickchart {\n",
              "      --bg-color: #E8F0FE;\n",
              "      --fill-color: #1967D2;\n",
              "      --hover-bg-color: #E2EBFA;\n",
              "      --hover-fill-color: #174EA6;\n",
              "      --disabled-fill-color: #AAA;\n",
              "      --disabled-bg-color: #DDD;\n",
              "  }\n",
              "\n",
              "  [theme=dark] .colab-df-quickchart {\n",
              "      --bg-color: #3B4455;\n",
              "      --fill-color: #D2E3FC;\n",
              "      --hover-bg-color: #434B5C;\n",
              "      --hover-fill-color: #FFFFFF;\n",
              "      --disabled-bg-color: #3B4455;\n",
              "      --disabled-fill-color: #666;\n",
              "  }\n",
              "\n",
              "  .colab-df-quickchart {\n",
              "    background-color: var(--bg-color);\n",
              "    border: none;\n",
              "    border-radius: 50%;\n",
              "    cursor: pointer;\n",
              "    display: none;\n",
              "    fill: var(--fill-color);\n",
              "    height: 32px;\n",
              "    padding: 0;\n",
              "    width: 32px;\n",
              "  }\n",
              "\n",
              "  .colab-df-quickchart:hover {\n",
              "    background-color: var(--hover-bg-color);\n",
              "    box-shadow: 0 1px 2px rgba(60, 64, 67, 0.3), 0 1px 3px 1px rgba(60, 64, 67, 0.15);\n",
              "    fill: var(--button-hover-fill-color);\n",
              "  }\n",
              "\n",
              "  .colab-df-quickchart-complete:disabled,\n",
              "  .colab-df-quickchart-complete:disabled:hover {\n",
              "    background-color: var(--disabled-bg-color);\n",
              "    fill: var(--disabled-fill-color);\n",
              "    box-shadow: none;\n",
              "  }\n",
              "\n",
              "  .colab-df-spinner {\n",
              "    border: 2px solid var(--fill-color);\n",
              "    border-color: transparent;\n",
              "    border-bottom-color: var(--fill-color);\n",
              "    animation:\n",
              "      spin 1s steps(1) infinite;\n",
              "  }\n",
              "\n",
              "  @keyframes spin {\n",
              "    0% {\n",
              "      border-color: transparent;\n",
              "      border-bottom-color: var(--fill-color);\n",
              "      border-left-color: var(--fill-color);\n",
              "    }\n",
              "    20% {\n",
              "      border-color: transparent;\n",
              "      border-left-color: var(--fill-color);\n",
              "      border-top-color: var(--fill-color);\n",
              "    }\n",
              "    30% {\n",
              "      border-color: transparent;\n",
              "      border-left-color: var(--fill-color);\n",
              "      border-top-color: var(--fill-color);\n",
              "      border-right-color: var(--fill-color);\n",
              "    }\n",
              "    40% {\n",
              "      border-color: transparent;\n",
              "      border-right-color: var(--fill-color);\n",
              "      border-top-color: var(--fill-color);\n",
              "    }\n",
              "    60% {\n",
              "      border-color: transparent;\n",
              "      border-right-color: var(--fill-color);\n",
              "    }\n",
              "    80% {\n",
              "      border-color: transparent;\n",
              "      border-right-color: var(--fill-color);\n",
              "      border-bottom-color: var(--fill-color);\n",
              "    }\n",
              "    90% {\n",
              "      border-color: transparent;\n",
              "      border-bottom-color: var(--fill-color);\n",
              "    }\n",
              "  }\n",
              "</style>\n",
              "\n",
              "  <script>\n",
              "    async function quickchart(key) {\n",
              "      const quickchartButtonEl =\n",
              "        document.querySelector('#' + key + ' button');\n",
              "      quickchartButtonEl.disabled = true;  // To prevent multiple clicks.\n",
              "      quickchartButtonEl.classList.add('colab-df-spinner');\n",
              "      try {\n",
              "        const charts = await google.colab.kernel.invokeFunction(\n",
              "            'suggestCharts', [key], {});\n",
              "      } catch (error) {\n",
              "        console.error('Error during call to suggestCharts:', error);\n",
              "      }\n",
              "      quickchartButtonEl.classList.remove('colab-df-spinner');\n",
              "      quickchartButtonEl.classList.add('colab-df-quickchart-complete');\n",
              "    }\n",
              "    (() => {\n",
              "      let quickchartButtonEl =\n",
              "        document.querySelector('#df-8a2a9797-1b70-4a8f-b417-dd6db4de5771 button');\n",
              "      quickchartButtonEl.style.display =\n",
              "        google.colab.kernel.accessAllowed ? 'block' : 'none';\n",
              "    })();\n",
              "  </script>\n",
              "</div>\n",
              "\n",
              "    </div>\n",
              "  </div>\n"
            ],
            "text/plain": [
              "    country                                        description  \\\n",
              "0     Italy  Aromas include tropical fruit, broom, brimston...   \n",
              "1  Portugal  This is ripe and fruity, a wine that is smooth...   \n",
              "2        US  Tart and snappy, the flavors of lime flesh and...   \n",
              "3        US  Pineapple rind, lemon pith and orange blossom ...   \n",
              "4        US  Much like the regular bottling from 2016, this...   \n",
              "\n",
              "                          designation  points  price           province  \\\n",
              "0                        Vulkà Bianco      87    NaN  Sicily & Sardinia   \n",
              "1                            Avidagos      87   20.0              Douro   \n",
              "2                                 NaN      87   18.0             Oregon   \n",
              "3                Reserve Late Harvest      87   18.0           Michigan   \n",
              "4  Vintner's Reserve Wild Child Block      87   44.0             Oregon   \n",
              "\n",
              "              region_1           region_2         taster_name  \\\n",
              "0                 Etna                NaN       Kerin O’Keefe   \n",
              "1                  NaN                NaN          Roger Voss   \n",
              "2    Willamette Valley  Willamette Valley        Paul Gregutt   \n",
              "3  Lake Michigan Shore                NaN  Alexander Peartree   \n",
              "4    Willamette Valley  Willamette Valley        Paul Gregutt   \n",
              "\n",
              "  taster_twitter_handle                                              title  \\\n",
              "0          @kerinokeefe                  Nicosia 2019 Vulkà Bianco  (Etna)   \n",
              "1            @vossroger      Quinta dos Avidagos 2017 Avidagos Red (Douro)   \n",
              "2           @paulgwine       Rainstorm 2019 Pinot Gris (Willamette Valley)   \n",
              "3                   NaN  St. Julian 2019 Reserve Late Harvest Riesling ...   \n",
              "4           @paulgwine   Sweet Cheeks 2018 Vintner's Reserve Wild Child...   \n",
              "\n",
              "          variety               winery  \n",
              "0     White Blend              Nicosia  \n",
              "1  Portuguese Red  Quinta dos Avidagos  \n",
              "2      Pinot Gris            Rainstorm  \n",
              "3        Riesling           St. Julian  \n",
              "4      Pinot Noir         Sweet Cheeks  "
            ]
          },
          "execution_count": 636,
          "metadata": {},
          "output_type": "execute_result"
        }
      ],
      "source": [
        "link = \"https://github.com/WildCodeSchool/wilddata/raw/main/wine.zip\"\n",
        "df = pd.read_csv(link)\n",
        "\n",
        "df.head()"
      ]
    },
    {
      "cell_type": "code",
      "execution_count": null,
      "metadata": {
        "colab": {
          "base_uri": "https://localhost:8080/"
        },
        "id": "7RLwx-ZptaP9",
        "outputId": "400320f1-215e-4458-dd93-fa71cf6d18df"
      },
      "outputs": [
        {
          "data": {
            "text/plain": [
              "(129957, 13)"
            ]
          },
          "execution_count": 637,
          "metadata": {},
          "output_type": "execute_result"
        }
      ],
      "source": [
        "df.shape"
      ]
    },
    {
      "cell_type": "code",
      "execution_count": null,
      "metadata": {
        "colab": {
          "base_uri": "https://localhost:8080/"
        },
        "id": "mzR0Upv8PU8g",
        "outputId": "85eb2905-b18a-4a02-f863-d73f7252684e"
      },
      "outputs": [
        {
          "name": "stdout",
          "output_type": "stream",
          "text": [
            "<class 'pandas.core.frame.DataFrame'>\n",
            "RangeIndex: 129957 entries, 0 to 129956\n",
            "Data columns (total 13 columns):\n",
            " #   Column                 Non-Null Count   Dtype  \n",
            "---  ------                 --------------   -----  \n",
            " 0   country                129894 non-null  object \n",
            " 1   description            129957 non-null  object \n",
            " 2   designation            92497 non-null   object \n",
            " 3   points                 129957 non-null  int64  \n",
            " 4   price                  120964 non-null  float64\n",
            " 5   province               129894 non-null  object \n",
            " 6   region_1               108710 non-null  object \n",
            " 7   region_2               50511 non-null   object \n",
            " 8   taster_name            103713 non-null  object \n",
            " 9   taster_twitter_handle  98744 non-null   object \n",
            " 10  title                  129957 non-null  object \n",
            " 11  variety                129956 non-null  object \n",
            " 12  winery                 129957 non-null  object \n",
            "dtypes: float64(1), int64(1), object(11)\n",
            "memory usage: 12.9+ MB\n"
          ]
        }
      ],
      "source": [
        "df.info()"
      ]
    },
    {
      "cell_type": "code",
      "execution_count": null,
      "metadata": {
        "colab": {
          "base_uri": "https://localhost:8080/"
        },
        "id": "hdvXEzJMcfoV",
        "outputId": "dc16c626-e1d0-4411-af33-d68139991fb5"
      },
      "outputs": [
        {
          "data": {
            "text/plain": [
              "array(['Italy', 'Portugal', 'US', 'Spain', 'France', 'Germany',\n",
              "       'Argentina', 'Chile', 'Australia', 'Austria', 'South Africa',\n",
              "       'New Zealand', 'Israel', 'Hungary', 'Greece', 'Romania', 'Mexico',\n",
              "       'Canada', nan, 'Turkey', 'Czech Republic', 'Slovenia',\n",
              "       'Luxembourg', 'Croatia', 'Georgia', 'Uruguay', 'England',\n",
              "       'Lebanon', 'Serbia', 'Brazil', 'Moldova', 'Morocco', 'Peru',\n",
              "       'India', 'Bulgaria', 'Cyprus', 'Armenia', 'Switzerland',\n",
              "       'Bosnia and Herzegovina', 'Ukraine', 'Slovakia', 'Macedonia',\n",
              "       'China', 'Egypt'], dtype=object)"
            ]
          },
          "execution_count": 639,
          "metadata": {},
          "output_type": "execute_result"
        }
      ],
      "source": [
        "df[\"country\"].unique()"
      ]
    },
    {
      "cell_type": "markdown",
      "metadata": {
        "id": "LQ7swSSlco10"
      },
      "source": [
        "Nous trouvons que 43 pays c'est beaucoup trop à analyser, nous allons réduire la liste des pays\n",
        "\n",
        "Nous envisageons de garder les US, certains pays européens, certains pays sud-américains et l'Australie\n",
        "\n",
        "Une recherche nous montre que ces 15 pays ont une bonne réputation en matière de vin:\n",
        "France, Italie, Espagne, États-Unis, Australie, Chili, Argentine, Allemagne, Portugal, Nouvelle-Zélande, Afrique du Sud, Autriche, Grèce, Canada, Suisse\n",
        "\n",
        "Nous allons donc réduire notre champ d'analyse à ces pays"
      ]
    },
    {
      "cell_type": "code",
      "execution_count": null,
      "metadata": {
        "id": "hJqjogUGek8A"
      },
      "outputs": [],
      "source": [
        "pays_selectionnes = [\"France\", \"Italy\", \"Spain\", \"US\", \"Australia\", \"Chile\", \"Argentina\", \"Germany\",\n",
        "                     \"Portugal\", \"New Zealand\", \"South Africa\", \"Austria\", \"Greece\", \"Canada\", \"Switzerland\"]"
      ]
    },
    {
      "cell_type": "code",
      "execution_count": null,
      "metadata": {
        "id": "nvTncUR5e4XO"
      },
      "outputs": [],
      "source": [
        "df_selection = df[df[\"country\"].isin(pays_selectionnes)]"
      ]
    },
    {
      "cell_type": "code",
      "execution_count": null,
      "metadata": {
        "colab": {
          "base_uri": "https://localhost:8080/"
        },
        "id": "5FIJljoufCq3",
        "outputId": "f95ebf92-5e4b-4c07-d33c-086adecfbbc7"
      },
      "outputs": [
        {
          "name": "stdout",
          "output_type": "stream",
          "text": [
            "(128120, 13)\n"
          ]
        }
      ],
      "source": [
        "print(df_selection.shape)"
      ]
    },
    {
      "cell_type": "code",
      "execution_count": null,
      "metadata": {
        "colab": {
          "base_uri": "https://localhost:8080/"
        },
        "id": "tr2xImKBfOot",
        "outputId": "29289cae-fd03-4c6e-b9e3-5095bcc08a9b"
      },
      "outputs": [
        {
          "name": "stdout",
          "output_type": "stream",
          "text": [
            "|    | country   | description                                                                                                                                                                                                                                               | designation                        |   points |   price | province          | region_1            | region_2          | taster_name        | taster_twitter_handle   | title                                                                               | variety        | winery              |\n",
            "|---:|:----------|:----------------------------------------------------------------------------------------------------------------------------------------------------------------------------------------------------------------------------------------------------------|:-----------------------------------|---------:|--------:|:------------------|:--------------------|:------------------|:-------------------|:------------------------|:------------------------------------------------------------------------------------|:---------------|:--------------------|\n",
            "|  0 | Italy     | Aromas include tropical fruit, broom, brimstone and dried herb. The palate isn't overly expressive, offering unripened apple, citrus and dried sage alongside brisk acidity.                                                                              | Vulkà Bianco                       |       87 |     nan | Sicily & Sardinia | Etna                | nan               | Kerin O’Keefe      | @kerinokeefe            | Nicosia 2019 Vulkà Bianco  (Etna)                                                   | White Blend    | Nicosia             |\n",
            "|  1 | Portugal  | This is ripe and fruity, a wine that is smooth while still structured. Firm tannins are filled out with juicy red berry fruits and freshened with acidity. It's  already drinkable, although it will certainly be better from 2020.                       | Avidagos                           |       87 |      20 | Douro             | nan                 | nan               | Roger Voss         | @vossroger              | Quinta dos Avidagos 2017 Avidagos Red (Douro)                                       | Portuguese Red | Quinta dos Avidagos |\n",
            "|  2 | US        | Tart and snappy, the flavors of lime flesh and rind dominate. Some green pineapple pokes through, with crisp acidity underscoring the flavors. The wine was all stainless-steel fermented.                                                                | nan                                |       87 |      18 | Oregon            | Willamette Valley   | Willamette Valley | Paul Gregutt       | @paulgwine              | Rainstorm 2019 Pinot Gris (Willamette Valley)                                       | Pinot Gris     | Rainstorm           |\n",
            "|  3 | US        | Pineapple rind, lemon pith and orange blossom start off the aromas. The palate is a bit more opulent, with notes of honey-drizzled guava and mango giving way to a slightly astringent, semidry finish.                                                   | Reserve Late Harvest               |       87 |      18 | Michigan          | Lake Michigan Shore | nan               | Alexander Peartree | nan                     | St. Julian 2019 Reserve Late Harvest Riesling (Lake Michigan Shore)                 | Riesling       | St. Julian          |\n",
            "|  4 | US        | Much like the regular bottling from 2016, this comes across as rather rough and tannic, with rustic, earthy, herbal characteristics. Nonetheless, if you think of it as a pleasantly unfussy country wine, it's a good companion to a hearty winter stew. | Vintner's Reserve Wild Child Block |       87 |      44 | Oregon            | Willamette Valley   | Willamette Valley | Paul Gregutt       | @paulgwine              | Sweet Cheeks 2018 Vintner's Reserve Wild Child Block Pinot Noir (Willamette Valley) | Pinot Noir     | Sweet Cheeks        |\n"
          ]
        }
      ],
      "source": [
        "print(df_selection.head().to_markdown())"
      ]
    },
    {
      "cell_type": "code",
      "execution_count": null,
      "metadata": {
        "colab": {
          "base_uri": "https://localhost:8080/"
        },
        "id": "k7socL0OthvJ",
        "outputId": "bf187382-3561-4519-c99a-23a41e15e18b"
      },
      "outputs": [
        {
          "name": "stdout",
          "output_type": "stream",
          "text": [
            "country\n",
            "US              54504\n",
            "France          22079\n",
            "Italy           19540\n",
            "Spain            6645\n",
            "Portugal         5691\n",
            "Chile            4472\n",
            "Argentina        3800\n",
            "Austria          3345\n",
            "Australia        2329\n",
            "Germany          2165\n",
            "New Zealand      1419\n",
            "South Africa     1401\n",
            "Greece            466\n",
            "Canada            257\n",
            "Switzerland         7\n",
            "Name: count, dtype: int64\n"
          ]
        }
      ],
      "source": [
        "combien_par_country = df_selection[\"country\"].value_counts()\n",
        "print(combien_par_country)"
      ]
    },
    {
      "cell_type": "markdown",
      "metadata": {
        "id": "0xpeuA1XgRJ8"
      },
      "source": [
        "La Suisse ne propose qu'un faible nombre de vins, nous ne la garderons pas"
      ]
    },
    {
      "cell_type": "code",
      "execution_count": null,
      "metadata": {
        "colab": {
          "base_uri": "https://localhost:8080/"
        },
        "id": "HtbEngv3uDjk",
        "outputId": "f3959178-b396-4279-ac1e-3030a7a5cc50"
      },
      "outputs": [
        {
          "name": "stdout",
          "output_type": "stream",
          "text": [
            "|    | country   | description                                                                                                                                                                                                                                               | designation                        |   points |   price | province          | region_1            | region_2          | taster_name        | taster_twitter_handle   | title                                                                               | variety        | winery              |\n",
            "|---:|:----------|:----------------------------------------------------------------------------------------------------------------------------------------------------------------------------------------------------------------------------------------------------------|:-----------------------------------|---------:|--------:|:------------------|:--------------------|:------------------|:-------------------|:------------------------|:------------------------------------------------------------------------------------|:---------------|:--------------------|\n",
            "|  0 | Italy     | Aromas include tropical fruit, broom, brimstone and dried herb. The palate isn't overly expressive, offering unripened apple, citrus and dried sage alongside brisk acidity.                                                                              | Vulkà Bianco                       |       87 |     nan | Sicily & Sardinia | Etna                | nan               | Kerin O’Keefe      | @kerinokeefe            | Nicosia 2019 Vulkà Bianco  (Etna)                                                   | White Blend    | Nicosia             |\n",
            "|  1 | Portugal  | This is ripe and fruity, a wine that is smooth while still structured. Firm tannins are filled out with juicy red berry fruits and freshened with acidity. It's  already drinkable, although it will certainly be better from 2020.                       | Avidagos                           |       87 |      20 | Douro             | nan                 | nan               | Roger Voss         | @vossroger              | Quinta dos Avidagos 2017 Avidagos Red (Douro)                                       | Portuguese Red | Quinta dos Avidagos |\n",
            "|  2 | US        | Tart and snappy, the flavors of lime flesh and rind dominate. Some green pineapple pokes through, with crisp acidity underscoring the flavors. The wine was all stainless-steel fermented.                                                                | nan                                |       87 |      18 | Oregon            | Willamette Valley   | Willamette Valley | Paul Gregutt       | @paulgwine              | Rainstorm 2019 Pinot Gris (Willamette Valley)                                       | Pinot Gris     | Rainstorm           |\n",
            "|  3 | US        | Pineapple rind, lemon pith and orange blossom start off the aromas. The palate is a bit more opulent, with notes of honey-drizzled guava and mango giving way to a slightly astringent, semidry finish.                                                   | Reserve Late Harvest               |       87 |      18 | Michigan          | Lake Michigan Shore | nan               | Alexander Peartree | nan                     | St. Julian 2019 Reserve Late Harvest Riesling (Lake Michigan Shore)                 | Riesling       | St. Julian          |\n",
            "|  4 | US        | Much like the regular bottling from 2016, this comes across as rather rough and tannic, with rustic, earthy, herbal characteristics. Nonetheless, if you think of it as a pleasantly unfussy country wine, it's a good companion to a hearty winter stew. | Vintner's Reserve Wild Child Block |       87 |      44 | Oregon            | Willamette Valley   | Willamette Valley | Paul Gregutt       | @paulgwine              | Sweet Cheeks 2018 Vintner's Reserve Wild Child Block Pinot Noir (Willamette Valley) | Pinot Noir     | Sweet Cheeks        |\n"
          ]
        }
      ],
      "source": [
        "condition = df_selection[\"province\"] != \"Switzerland\"\n",
        "df_selection = df_selection[condition]\n",
        "print(df_selection.head().to_markdown())"
      ]
    },
    {
      "cell_type": "code",
      "execution_count": null,
      "metadata": {
        "colab": {
          "base_uri": "https://localhost:8080/"
        },
        "id": "NpMZUvsDuVF3",
        "outputId": "dd03740d-025b-4674-957f-f2d7984885de"
      },
      "outputs": [
        {
          "data": {
            "text/plain": [
              "(128117, 13)"
            ]
          },
          "execution_count": 646,
          "metadata": {},
          "output_type": "execute_result"
        }
      ],
      "source": [
        "df_selection.shape"
      ]
    },
    {
      "cell_type": "code",
      "execution_count": null,
      "metadata": {
        "id": "9_TM5mu2uWh1"
      },
      "outputs": [],
      "source": [
        "import re\n",
        "\n",
        "def extract_year(text):\n",
        "  motif = \"\\d{4}\"\n",
        "  date = re.findall(motif, text)\n",
        "  return date"
      ]
    },
    {
      "cell_type": "code",
      "execution_count": null,
      "metadata": {
        "id": "mBCHXdvWuuRi"
      },
      "outputs": [],
      "source": [
        "df_selection[\"Année\"] = df_selection[\"title\"].apply(extract_year)"
      ]
    },
    {
      "cell_type": "code",
      "execution_count": null,
      "metadata": {
        "colab": {
          "base_uri": "https://localhost:8080/"
        },
        "id": "_gMUdLOAu5Hk",
        "outputId": "ee571e65-3405-44d1-d636-98103ae83757"
      },
      "outputs": [
        {
          "name": "stdout",
          "output_type": "stream",
          "text": [
            "|    | country   | description                                                                                                                                                                                                                                               | designation                        |   points |   price | province          | region_1            | region_2          | taster_name        | taster_twitter_handle   | title                                                                               | variety        | winery              | Année    |\n",
            "|---:|:----------|:----------------------------------------------------------------------------------------------------------------------------------------------------------------------------------------------------------------------------------------------------------|:-----------------------------------|---------:|--------:|:------------------|:--------------------|:------------------|:-------------------|:------------------------|:------------------------------------------------------------------------------------|:---------------|:--------------------|:---------|\n",
            "|  0 | Italy     | Aromas include tropical fruit, broom, brimstone and dried herb. The palate isn't overly expressive, offering unripened apple, citrus and dried sage alongside brisk acidity.                                                                              | Vulkà Bianco                       |       87 |     nan | Sicily & Sardinia | Etna                | nan               | Kerin O’Keefe      | @kerinokeefe            | Nicosia 2019 Vulkà Bianco  (Etna)                                                   | White Blend    | Nicosia             | ['2019'] |\n",
            "|  1 | Portugal  | This is ripe and fruity, a wine that is smooth while still structured. Firm tannins are filled out with juicy red berry fruits and freshened with acidity. It's  already drinkable, although it will certainly be better from 2020.                       | Avidagos                           |       87 |      20 | Douro             | nan                 | nan               | Roger Voss         | @vossroger              | Quinta dos Avidagos 2017 Avidagos Red (Douro)                                       | Portuguese Red | Quinta dos Avidagos | ['2017'] |\n",
            "|  2 | US        | Tart and snappy, the flavors of lime flesh and rind dominate. Some green pineapple pokes through, with crisp acidity underscoring the flavors. The wine was all stainless-steel fermented.                                                                | nan                                |       87 |      18 | Oregon            | Willamette Valley   | Willamette Valley | Paul Gregutt       | @paulgwine              | Rainstorm 2019 Pinot Gris (Willamette Valley)                                       | Pinot Gris     | Rainstorm           | ['2019'] |\n",
            "|  3 | US        | Pineapple rind, lemon pith and orange blossom start off the aromas. The palate is a bit more opulent, with notes of honey-drizzled guava and mango giving way to a slightly astringent, semidry finish.                                                   | Reserve Late Harvest               |       87 |      18 | Michigan          | Lake Michigan Shore | nan               | Alexander Peartree | nan                     | St. Julian 2019 Reserve Late Harvest Riesling (Lake Michigan Shore)                 | Riesling       | St. Julian          | ['2019'] |\n",
            "|  4 | US        | Much like the regular bottling from 2016, this comes across as rather rough and tannic, with rustic, earthy, herbal characteristics. Nonetheless, if you think of it as a pleasantly unfussy country wine, it's a good companion to a hearty winter stew. | Vintner's Reserve Wild Child Block |       87 |      44 | Oregon            | Willamette Valley   | Willamette Valley | Paul Gregutt       | @paulgwine              | Sweet Cheeks 2018 Vintner's Reserve Wild Child Block Pinot Noir (Willamette Valley) | Pinot Noir     | Sweet Cheeks        | ['2018'] |\n"
          ]
        }
      ],
      "source": [
        "print(df_selection.head().to_markdown())"
      ]
    },
    {
      "cell_type": "code",
      "execution_count": null,
      "metadata": {
        "colab": {
          "base_uri": "https://localhost:8080/"
        },
        "id": "9X6v4IqNTTRy",
        "outputId": "0330cf91-d872-449c-e33f-07b3e1c9eca8"
      },
      "outputs": [
        {
          "name": "stdout",
          "output_type": "stream",
          "text": [
            "Année\n",
            "[2019]          15578\n",
            "[2018]          15468\n",
            "[2020]          15284\n",
            "[2017]          12259\n",
            "[2016]          11951\n",
            "                ...  \n",
            "[2011, 1953]        1\n",
            "[2020, 6679]        1\n",
            "[2007, 7000]        1\n",
            "[2009, 2009]        1\n",
            "[2017, 1850]        1\n",
            "Name: count, Length: 375, dtype: int64\n"
          ]
        }
      ],
      "source": [
        "print(df_selection[\"Année\"].value_counts())"
      ]
    },
    {
      "cell_type": "markdown",
      "metadata": {
        "id": "YCEvGZWkngMg"
      },
      "source": [
        "Je ne vais garder que les années où il n'y a qu'une seule valeur à extraire"
      ]
    },
    {
      "cell_type": "code",
      "execution_count": null,
      "metadata": {
        "colab": {
          "base_uri": "https://localhost:8080/"
        },
        "id": "lzZNyINLjDSo",
        "outputId": "6f3d49af-59af-4477-aa88-9a4062fd95a9"
      },
      "outputs": [
        {
          "name": "stdout",
          "output_type": "stream",
          "text": [
            "(123100, 14)\n"
          ]
        }
      ],
      "source": [
        "condition = df_selection[\"Année\"].apply(lambda x: len(x) == 1)\n",
        "df_filtre = df_selection[condition]\n",
        "print(df_filtre.shape)"
      ]
    },
    {
      "cell_type": "markdown",
      "metadata": {
        "id": "zxbfB-xsnsDU"
      },
      "source": [
        "La colonne \"region_2\" ne nous servira pas pour l'analyse, nous la supprimons"
      ]
    },
    {
      "cell_type": "code",
      "execution_count": null,
      "metadata": {
        "id": "gLz1_CgZYA05"
      },
      "outputs": [],
      "source": [
        "df_selection = df_selection.drop(\"region_2\", axis = 1)"
      ]
    },
    {
      "cell_type": "code",
      "execution_count": null,
      "metadata": {
        "colab": {
          "base_uri": "https://localhost:8080/"
        },
        "id": "weQED0ffjl-l",
        "outputId": "82b7a533-65e4-4d54-e1b2-d8598e013fec"
      },
      "outputs": [
        {
          "data": {
            "text/plain": [
              "country                      0\n",
              "description                  0\n",
              "designation              37115\n",
              "points                       0\n",
              "price                     8950\n",
              "province                     0\n",
              "region_1                 19407\n",
              "taster_name              26233\n",
              "taster_twitter_handle    30996\n",
              "title                        0\n",
              "variety                      1\n",
              "winery                       0\n",
              "Année                        0\n",
              "dtype: int64"
            ]
          },
          "execution_count": 655,
          "metadata": {},
          "output_type": "execute_result"
        }
      ],
      "source": [
        "df_selection.isna().sum()"
      ]
    },
    {
      "cell_type": "markdown",
      "metadata": {
        "id": "U7MZytXnn5OL"
      },
      "source": [
        "Il reste beaucoup de valeurs manquantes, nous allons les supprimer"
      ]
    },
    {
      "cell_type": "code",
      "execution_count": null,
      "metadata": {
        "id": "WVIwiQLpn-Og"
      },
      "outputs": [],
      "source": [
        "df_selection = df_selection.dropna()"
      ]
    },
    {
      "cell_type": "code",
      "execution_count": null,
      "metadata": {
        "colab": {
          "base_uri": "https://localhost:8080/"
        },
        "id": "f8Jk8KmJoClV",
        "outputId": "2c35eeb4-30da-4264-f18c-37d78e304a98"
      },
      "outputs": [
        {
          "name": "stdout",
          "output_type": "stream",
          "text": [
            "(52099, 13)\n"
          ]
        }
      ],
      "source": [
        "print(df_selection.shape)"
      ]
    },
    {
      "cell_type": "markdown",
      "metadata": {
        "id": "y14db--Ym3vz"
      },
      "source": [
        "Nous estimons que la colonne \"taster_twitter_handle\" ne servira pas à l'analyse"
      ]
    },
    {
      "cell_type": "code",
      "execution_count": null,
      "metadata": {
        "id": "RYAUJZaZl88p"
      },
      "outputs": [],
      "source": [
        "df_selection = df_selection.drop(\"taster_twitter_handle\", axis = 1)"
      ]
    },
    {
      "cell_type": "code",
      "execution_count": null,
      "metadata": {
        "colab": {
          "base_uri": "https://localhost:8080/"
        },
        "id": "2rC-9_ExkTyC",
        "outputId": "30653dfd-5e75-4217-ddec-e3ee37127204"
      },
      "outputs": [
        {
          "data": {
            "text/plain": [
              "(52099, 12)"
            ]
          },
          "execution_count": 661,
          "metadata": {},
          "output_type": "execute_result"
        }
      ],
      "source": [
        "df_selection.shape"
      ]
    },
    {
      "cell_type": "code",
      "execution_count": null,
      "metadata": {
        "colab": {
          "base_uri": "https://localhost:8080/"
        },
        "id": "RFp0NLi0ltb6",
        "outputId": "385a57da-b406-47ba-de6d-b23ab5cc18cf"
      },
      "outputs": [
        {
          "name": "stdout",
          "output_type": "stream",
          "text": [
            "|    | country   | description                                                                                                                                                                                                                                                           | designation                        |   points |   price | province          | region_1          | taster_name       | title                                                                               | variety            | winery             | Année    |\n",
            "|---:|:----------|:----------------------------------------------------------------------------------------------------------------------------------------------------------------------------------------------------------------------------------------------------------------------|:-----------------------------------|---------:|--------:|:------------------|:------------------|:------------------|:------------------------------------------------------------------------------------|:-------------------|:-------------------|:---------|\n",
            "|  4 | US        | Much like the regular bottling from 2016, this comes across as rather rough and tannic, with rustic, earthy, herbal characteristics. Nonetheless, if you think of it as a pleasantly unfussy country wine, it's a good companion to a hearty winter stew.             | Vintner's Reserve Wild Child Block |       87 |      44 | Oregon            | Willamette Valley | Paul Gregutt      | Sweet Cheeks 2018 Vintner's Reserve Wild Child Block Pinot Noir (Willamette Valley) | Pinot Noir         | Sweet Cheeks       | ['2018'] |\n",
            "|  5 | Spain     | Blackberry and raspberry aromas show a typical Navarran whiff of green herbs and, in this case, horseradish. In the mouth, this is fairly full bodied, with tomatoey acidity. Spicy, herbal flavors complement dark plum fruit, while the finish is fresh but grabby. | Ars In Vitro                       |       87 |      20 | Northern Spain    | Navarra           | Michael Schachner | Tandem 2017 Ars In Vitro Tempranillo-Merlot (Navarra)                               | Tempranillo-Merlot | Tandem             | ['2017'] |\n",
            "|  6 | Italy     | Here's a bright, informal red that opens with aromas of candied berry, white pepper and savory herb that carry over to the palate. It's balanced with fresh acidity and soft tannins.                                                                                 | Belsito                            |       87 |      19 | Sicily & Sardinia | Vittoria          | Kerin O’Keefe     | Terre di Giurfo 2019 Belsito Frappato (Vittoria)                                    | Frappato           | Terre di Giurfo    | ['2019'] |\n",
            "|  9 | France    | This has great depth of flavor with its fresh apple and pear fruits and touch of spice. It's off dry while balanced with acidity and a crisp texture. Drink now.                                                                                                      | Les Natures                        |       87 |      25 | Alsace            | Alsace            | Roger Voss        | Jean-Baptiste Adam 2018 Les Natures Pinot Gris (Alsace)                             | Pinot Gris         | Jean-Baptiste Adam | ['2018'] |\n",
            "| 10 | US        | Soft, supple plum envelopes an oaky structure in this Cabernet, supported by 15% Merlot. Coffee and chocolate complete the picture, finishing strong at the end, resulting in a value-priced wine of attractive flavor and immediate accessibility.                   | Mountain Cuvée                     |       87 |      23 | California        | Napa Valley       | Virginie Boone    | Kirkland Signature 2017 Mountain Cuvée Cabernet Sauvignon (Napa Valley)             | Cabernet Sauvignon | Kirkland Signature | ['2017'] |\n"
          ]
        }
      ],
      "source": [
        "print(df_selection.head().to_markdown())"
      ]
    },
    {
      "cell_type": "markdown",
      "metadata": {
        "id": "Go0qOrmwoYbv"
      },
      "source": [
        "Il nous reste un peu plus de 52000 lignes à analyser ce qui nous semble un bon début"
      ]
    },
    {
      "cell_type": "code",
      "execution_count": null,
      "metadata": {
        "colab": {
          "base_uri": "https://localhost:8080/"
        },
        "id": "64XS9FtIoffa",
        "outputId": "b8cad6c4-4a92-45d4-e4d2-a521f5e38bf7"
      },
      "outputs": [
        {
          "name": "stdout",
          "output_type": "stream",
          "text": [
            "Mounted at /content/drive\n"
          ]
        }
      ],
      "source": [
        "from google.colab import drive\n",
        "drive.mount(\"/content/drive\")"
      ]
    },
    {
      "cell_type": "code",
      "execution_count": null,
      "metadata": {
        "id": "T3iFFA4no5IX"
      },
      "outputs": [],
      "source": [
        "df_selection.to_csv(\"/content/drive/MyDrive/df_selection.csv\", index = False)"
      ]
    },
    {
      "cell_type": "code",
      "execution_count": null,
      "metadata": {
        "id": "M3pLBqrB4lO9"
      },
      "outputs": [],
      "source": [
        "df_selection = pd.read_csv(\"/content/drive/MyDrive/df_selection.csv\")"
      ]
    },
    {
      "cell_type": "code",
      "execution_count": null,
      "metadata": {
        "colab": {
          "base_uri": "https://localhost:8080/"
        },
        "id": "yFEwVdAd4r55",
        "outputId": "cd607d39-9918-4dd9-c3c3-af879b7d905b"
      },
      "outputs": [
        {
          "name": "stdout",
          "output_type": "stream",
          "text": [
            "|    | country   | description                                                                                                                                                                                                                                                           | designation                        |   points |   price | province          | region_1          | taster_name       | title                                                                               | variety            | winery             | Année    |\n",
            "|---:|:----------|:----------------------------------------------------------------------------------------------------------------------------------------------------------------------------------------------------------------------------------------------------------------------|:-----------------------------------|---------:|--------:|:------------------|:------------------|:------------------|:------------------------------------------------------------------------------------|:-------------------|:-------------------|:---------|\n",
            "|  0 | US        | Much like the regular bottling from 2016, this comes across as rather rough and tannic, with rustic, earthy, herbal characteristics. Nonetheless, if you think of it as a pleasantly unfussy country wine, it's a good companion to a hearty winter stew.             | Vintner's Reserve Wild Child Block |       87 |      44 | Oregon            | Willamette Valley | Paul Gregutt      | Sweet Cheeks 2018 Vintner's Reserve Wild Child Block Pinot Noir (Willamette Valley) | Pinot Noir         | Sweet Cheeks       | ['2018'] |\n",
            "|  1 | Spain     | Blackberry and raspberry aromas show a typical Navarran whiff of green herbs and, in this case, horseradish. In the mouth, this is fairly full bodied, with tomatoey acidity. Spicy, herbal flavors complement dark plum fruit, while the finish is fresh but grabby. | Ars In Vitro                       |       87 |      20 | Northern Spain    | Navarra           | Michael Schachner | Tandem 2017 Ars In Vitro Tempranillo-Merlot (Navarra)                               | Tempranillo-Merlot | Tandem             | ['2017'] |\n",
            "|  2 | Italy     | Here's a bright, informal red that opens with aromas of candied berry, white pepper and savory herb that carry over to the palate. It's balanced with fresh acidity and soft tannins.                                                                                 | Belsito                            |       87 |      19 | Sicily & Sardinia | Vittoria          | Kerin O’Keefe     | Terre di Giurfo 2019 Belsito Frappato (Vittoria)                                    | Frappato           | Terre di Giurfo    | ['2019'] |\n",
            "|  3 | France    | This has great depth of flavor with its fresh apple and pear fruits and touch of spice. It's off dry while balanced with acidity and a crisp texture. Drink now.                                                                                                      | Les Natures                        |       87 |      25 | Alsace            | Alsace            | Roger Voss        | Jean-Baptiste Adam 2018 Les Natures Pinot Gris (Alsace)                             | Pinot Gris         | Jean-Baptiste Adam | ['2018'] |\n",
            "|  4 | US        | Soft, supple plum envelopes an oaky structure in this Cabernet, supported by 15% Merlot. Coffee and chocolate complete the picture, finishing strong at the end, resulting in a value-priced wine of attractive flavor and immediate accessibility.                   | Mountain Cuvée                     |       87 |      23 | California        | Napa Valley       | Virginie Boone    | Kirkland Signature 2017 Mountain Cuvée Cabernet Sauvignon (Napa Valley)             | Cabernet Sauvignon | Kirkland Signature | ['2017'] |\n"
          ]
        }
      ],
      "source": [
        "print(df_selection.head().to_markdown())"
      ]
    },
    {
      "cell_type": "markdown",
      "metadata": {
        "id": "u1iBIxyuxUq4"
      },
      "source": [
        "Je voudrais essayer d'utiliser la colonne \"description\" dans mon dashboard en mettant en évidence des mots-clés par exemple\n",
        "\n",
        "Pour cela j'ai besoin de traiter le texte afin de l'expurger de la ponctuation et des mots avec peu ou pas de signification"
      ]
    },
    {
      "cell_type": "code",
      "execution_count": null,
      "metadata": {
        "colab": {
          "base_uri": "https://localhost:8080/"
        },
        "collapsed": true,
        "id": "FDdtOkBi6cN5",
        "outputId": "3fa9b2e4-8c74-4b6a-88ca-98264ec308cf"
      },
      "outputs": [
        {
          "name": "stderr",
          "output_type": "stream",
          "text": [
            "[nltk_data] Downloading collection 'popular'\n",
            "[nltk_data]    | \n",
            "[nltk_data]    | Downloading package cmudict to /root/nltk_data...\n",
            "[nltk_data]    |   Unzipping corpora/cmudict.zip.\n",
            "[nltk_data]    | Downloading package gazetteers to /root/nltk_data...\n",
            "[nltk_data]    |   Unzipping corpora/gazetteers.zip.\n",
            "[nltk_data]    | Downloading package genesis to /root/nltk_data...\n",
            "[nltk_data]    |   Unzipping corpora/genesis.zip.\n",
            "[nltk_data]    | Downloading package gutenberg to /root/nltk_data...\n",
            "[nltk_data]    |   Unzipping corpora/gutenberg.zip.\n",
            "[nltk_data]    | Downloading package inaugural to /root/nltk_data...\n",
            "[nltk_data]    |   Unzipping corpora/inaugural.zip.\n",
            "[nltk_data]    | Downloading package movie_reviews to\n",
            "[nltk_data]    |     /root/nltk_data...\n",
            "[nltk_data]    |   Unzipping corpora/movie_reviews.zip.\n",
            "[nltk_data]    | Downloading package names to /root/nltk_data...\n",
            "[nltk_data]    |   Unzipping corpora/names.zip.\n",
            "[nltk_data]    | Downloading package shakespeare to /root/nltk_data...\n",
            "[nltk_data]    |   Unzipping corpora/shakespeare.zip.\n",
            "[nltk_data]    | Downloading package stopwords to /root/nltk_data...\n",
            "[nltk_data]    |   Unzipping corpora/stopwords.zip.\n",
            "[nltk_data]    | Downloading package treebank to /root/nltk_data...\n",
            "[nltk_data]    |   Unzipping corpora/treebank.zip.\n",
            "[nltk_data]    | Downloading package twitter_samples to\n",
            "[nltk_data]    |     /root/nltk_data...\n",
            "[nltk_data]    |   Unzipping corpora/twitter_samples.zip.\n",
            "[nltk_data]    | Downloading package omw to /root/nltk_data...\n",
            "[nltk_data]    | Downloading package omw-1.4 to /root/nltk_data...\n",
            "[nltk_data]    | Downloading package wordnet to /root/nltk_data...\n",
            "[nltk_data]    | Downloading package wordnet2021 to /root/nltk_data...\n",
            "[nltk_data]    | Downloading package wordnet31 to /root/nltk_data...\n",
            "[nltk_data]    | Downloading package wordnet_ic to /root/nltk_data...\n",
            "[nltk_data]    |   Unzipping corpora/wordnet_ic.zip.\n",
            "[nltk_data]    | Downloading package words to /root/nltk_data...\n",
            "[nltk_data]    |   Unzipping corpora/words.zip.\n",
            "[nltk_data]    | Downloading package maxent_ne_chunker to\n",
            "[nltk_data]    |     /root/nltk_data...\n",
            "[nltk_data]    |   Unzipping chunkers/maxent_ne_chunker.zip.\n",
            "[nltk_data]    | Downloading package punkt to /root/nltk_data...\n",
            "[nltk_data]    |   Unzipping tokenizers/punkt.zip.\n",
            "[nltk_data]    | Downloading package snowball_data to\n",
            "[nltk_data]    |     /root/nltk_data...\n",
            "[nltk_data]    | Downloading package averaged_perceptron_tagger to\n",
            "[nltk_data]    |     /root/nltk_data...\n",
            "[nltk_data]    |   Unzipping taggers/averaged_perceptron_tagger.zip.\n",
            "[nltk_data]    | \n",
            "[nltk_data]  Done downloading collection popular\n"
          ]
        },
        {
          "data": {
            "text/plain": [
              "True"
            ]
          },
          "execution_count": 673,
          "metadata": {},
          "output_type": "execute_result"
        }
      ],
      "source": [
        "# cet import va me permettre de travailler sur du texte\n",
        "\n",
        "import nltk\n",
        "nltk.download('popular')"
      ]
    },
    {
      "cell_type": "code",
      "execution_count": null,
      "metadata": {
        "id": "xr9rx-jg4xuo"
      },
      "outputs": [],
      "source": [
        "# le texte étant en anglais je dois importer du vocabulaire\n",
        "\n",
        "import en_core_web_sm\n",
        "\n",
        "nlp = en_core_web_sm.load()"
      ]
    },
    {
      "cell_type": "code",
      "execution_count": null,
      "metadata": {
        "colab": {
          "base_uri": "https://localhost:8080/"
        },
        "collapsed": true,
        "id": "-gPaUmCK5bg4",
        "outputId": "36361278-098e-4fec-ec1f-7eee60e80995"
      },
      "outputs": [
        {
          "name": "stdout",
          "output_type": "stream",
          "text": [
            "Requirement already satisfied: spacy in /usr/local/lib/python3.10/dist-packages (3.7.5)\n",
            "Requirement already satisfied: spacy-legacy<3.1.0,>=3.0.11 in /usr/local/lib/python3.10/dist-packages (from spacy) (3.0.12)\n",
            "Requirement already satisfied: spacy-loggers<2.0.0,>=1.0.0 in /usr/local/lib/python3.10/dist-packages (from spacy) (1.0.5)\n",
            "Requirement already satisfied: murmurhash<1.1.0,>=0.28.0 in /usr/local/lib/python3.10/dist-packages (from spacy) (1.0.10)\n",
            "Requirement already satisfied: cymem<2.1.0,>=2.0.2 in /usr/local/lib/python3.10/dist-packages (from spacy) (2.0.8)\n",
            "Requirement already satisfied: preshed<3.1.0,>=3.0.2 in /usr/local/lib/python3.10/dist-packages (from spacy) (3.0.9)\n",
            "Requirement already satisfied: thinc<8.3.0,>=8.2.2 in /usr/local/lib/python3.10/dist-packages (from spacy) (8.2.5)\n",
            "Requirement already satisfied: wasabi<1.2.0,>=0.9.1 in /usr/local/lib/python3.10/dist-packages (from spacy) (1.1.3)\n",
            "Requirement already satisfied: srsly<3.0.0,>=2.4.3 in /usr/local/lib/python3.10/dist-packages (from spacy) (2.4.8)\n",
            "Requirement already satisfied: catalogue<2.1.0,>=2.0.6 in /usr/local/lib/python3.10/dist-packages (from spacy) (2.0.10)\n",
            "Requirement already satisfied: weasel<0.5.0,>=0.1.0 in /usr/local/lib/python3.10/dist-packages (from spacy) (0.4.1)\n",
            "Requirement already satisfied: typer<1.0.0,>=0.3.0 in /usr/local/lib/python3.10/dist-packages (from spacy) (0.12.3)\n",
            "Requirement already satisfied: tqdm<5.0.0,>=4.38.0 in /usr/local/lib/python3.10/dist-packages (from spacy) (4.66.4)\n",
            "Requirement already satisfied: requests<3.0.0,>=2.13.0 in /usr/local/lib/python3.10/dist-packages (from spacy) (2.31.0)\n",
            "Requirement already satisfied: pydantic!=1.8,!=1.8.1,<3.0.0,>=1.7.4 in /usr/local/lib/python3.10/dist-packages (from spacy) (2.8.2)\n",
            "Requirement already satisfied: jinja2 in /usr/local/lib/python3.10/dist-packages (from spacy) (3.1.4)\n",
            "Requirement already satisfied: setuptools in /usr/local/lib/python3.10/dist-packages (from spacy) (67.7.2)\n",
            "Requirement already satisfied: packaging>=20.0 in /usr/local/lib/python3.10/dist-packages (from spacy) (24.1)\n",
            "Requirement already satisfied: langcodes<4.0.0,>=3.2.0 in /usr/local/lib/python3.10/dist-packages (from spacy) (3.4.0)\n",
            "Requirement already satisfied: numpy>=1.19.0 in /usr/local/lib/python3.10/dist-packages (from spacy) (1.25.2)\n",
            "Requirement already satisfied: language-data>=1.2 in /usr/local/lib/python3.10/dist-packages (from langcodes<4.0.0,>=3.2.0->spacy) (1.2.0)\n",
            "Requirement already satisfied: annotated-types>=0.4.0 in /usr/local/lib/python3.10/dist-packages (from pydantic!=1.8,!=1.8.1,<3.0.0,>=1.7.4->spacy) (0.7.0)\n",
            "Requirement already satisfied: pydantic-core==2.20.1 in /usr/local/lib/python3.10/dist-packages (from pydantic!=1.8,!=1.8.1,<3.0.0,>=1.7.4->spacy) (2.20.1)\n",
            "Requirement already satisfied: typing-extensions>=4.6.1 in /usr/local/lib/python3.10/dist-packages (from pydantic!=1.8,!=1.8.1,<3.0.0,>=1.7.4->spacy) (4.12.2)\n",
            "Requirement already satisfied: charset-normalizer<4,>=2 in /usr/local/lib/python3.10/dist-packages (from requests<3.0.0,>=2.13.0->spacy) (3.3.2)\n",
            "Requirement already satisfied: idna<4,>=2.5 in /usr/local/lib/python3.10/dist-packages (from requests<3.0.0,>=2.13.0->spacy) (3.7)\n",
            "Requirement already satisfied: urllib3<3,>=1.21.1 in /usr/local/lib/python3.10/dist-packages (from requests<3.0.0,>=2.13.0->spacy) (2.0.7)\n",
            "Requirement already satisfied: certifi>=2017.4.17 in /usr/local/lib/python3.10/dist-packages (from requests<3.0.0,>=2.13.0->spacy) (2024.7.4)\n",
            "Requirement already satisfied: blis<0.8.0,>=0.7.8 in /usr/local/lib/python3.10/dist-packages (from thinc<8.3.0,>=8.2.2->spacy) (0.7.11)\n",
            "Requirement already satisfied: confection<1.0.0,>=0.0.1 in /usr/local/lib/python3.10/dist-packages (from thinc<8.3.0,>=8.2.2->spacy) (0.1.5)\n",
            "Requirement already satisfied: click>=8.0.0 in /usr/local/lib/python3.10/dist-packages (from typer<1.0.0,>=0.3.0->spacy) (8.1.7)\n",
            "Requirement already satisfied: shellingham>=1.3.0 in /usr/local/lib/python3.10/dist-packages (from typer<1.0.0,>=0.3.0->spacy) (1.5.4)\n",
            "Requirement already satisfied: rich>=10.11.0 in /usr/local/lib/python3.10/dist-packages (from typer<1.0.0,>=0.3.0->spacy) (13.7.1)\n",
            "Requirement already satisfied: cloudpathlib<1.0.0,>=0.7.0 in /usr/local/lib/python3.10/dist-packages (from weasel<0.5.0,>=0.1.0->spacy) (0.18.1)\n",
            "Requirement already satisfied: smart-open<8.0.0,>=5.2.1 in /usr/local/lib/python3.10/dist-packages (from weasel<0.5.0,>=0.1.0->spacy) (7.0.4)\n",
            "Requirement already satisfied: MarkupSafe>=2.0 in /usr/local/lib/python3.10/dist-packages (from jinja2->spacy) (2.1.5)\n",
            "Requirement already satisfied: marisa-trie>=0.7.7 in /usr/local/lib/python3.10/dist-packages (from language-data>=1.2->langcodes<4.0.0,>=3.2.0->spacy) (1.2.0)\n",
            "Requirement already satisfied: markdown-it-py>=2.2.0 in /usr/local/lib/python3.10/dist-packages (from rich>=10.11.0->typer<1.0.0,>=0.3.0->spacy) (3.0.0)\n",
            "Requirement already satisfied: pygments<3.0.0,>=2.13.0 in /usr/local/lib/python3.10/dist-packages (from rich>=10.11.0->typer<1.0.0,>=0.3.0->spacy) (2.16.1)\n",
            "Requirement already satisfied: wrapt in /usr/local/lib/python3.10/dist-packages (from smart-open<8.0.0,>=5.2.1->weasel<0.5.0,>=0.1.0->spacy) (1.14.1)\n",
            "Requirement already satisfied: mdurl~=0.1 in /usr/local/lib/python3.10/dist-packages (from markdown-it-py>=2.2.0->rich>=10.11.0->typer<1.0.0,>=0.3.0->spacy) (0.1.2)\n"
          ]
        }
      ],
      "source": [
        "# installation de spacy pour la tokenisation et la lemmatization\n",
        "\n",
        "!pip install spacy"
      ]
    },
    {
      "cell_type": "code",
      "execution_count": null,
      "metadata": {
        "colab": {
          "base_uri": "https://localhost:8080/"
        },
        "collapsed": true,
        "id": "fADohlWE5vhv",
        "outputId": "0c8d876a-be83-451f-f5bc-629f5f63c9b5"
      },
      "outputs": [
        {
          "name": "stdout",
          "output_type": "stream",
          "text": [
            "Collecting processtext\n",
            "  Downloading processtext-0.1.7-py3-none-any.whl (9.4 kB)\n",
            "Requirement already satisfied: nltk in /usr/local/lib/python3.10/dist-packages (from processtext) (3.8.1)\n",
            "Collecting autocorrect (from processtext)\n",
            "  Downloading autocorrect-2.6.1.tar.gz (622 kB)\n",
            "\u001b[2K     \u001b[90m━━━━━━━━━━━━━━━━━━━━━━━━━━━━━━━━━━━━━━━━\u001b[0m \u001b[32m622.8/622.8 kB\u001b[0m \u001b[31m9.3 MB/s\u001b[0m eta \u001b[36m0:00:00\u001b[0m\n",
            "\u001b[?25h  Preparing metadata (setup.py) ... \u001b[?25l\u001b[?25hdone\n",
            "Requirement already satisfied: click in /usr/local/lib/python3.10/dist-packages (from nltk->processtext) (8.1.7)\n",
            "Requirement already satisfied: joblib in /usr/local/lib/python3.10/dist-packages (from nltk->processtext) (1.4.2)\n",
            "Requirement already satisfied: regex>=2021.8.3 in /usr/local/lib/python3.10/dist-packages (from nltk->processtext) (2024.5.15)\n",
            "Requirement already satisfied: tqdm in /usr/local/lib/python3.10/dist-packages (from nltk->processtext) (4.66.4)\n",
            "Building wheels for collected packages: autocorrect\n",
            "  Building wheel for autocorrect (setup.py) ... \u001b[?25l\u001b[?25hdone\n",
            "  Created wheel for autocorrect: filename=autocorrect-2.6.1-py3-none-any.whl size=622363 sha256=fb8d5e2809248c7510f012d93a57879e8fcec7237bda872ac4189237688ea1ee\n",
            "  Stored in directory: /root/.cache/pip/wheels/b5/7b/6d/b76b29ce11ff8e2521c8c7dd0e5bfee4fb1789d76193124343\n",
            "Successfully built autocorrect\n",
            "Installing collected packages: autocorrect, processtext\n",
            "Successfully installed autocorrect-2.6.1 processtext-0.1.7\n"
          ]
        }
      ],
      "source": [
        "# processtext est un outil puissant pour pré traiter du texte\n",
        "\n",
        "!pip install processtext"
      ]
    },
    {
      "cell_type": "code",
      "execution_count": null,
      "metadata": {
        "id": "UlynrFa45eAB"
      },
      "outputs": [],
      "source": [
        "# juste pour voir où j'en suis\n",
        "\n",
        "from tqdm import tqdm\n",
        "tqdm.pandas()\n",
        "\n",
        "import processtext as pt"
      ]
    },
    {
      "cell_type": "code",
      "execution_count": null,
      "metadata": {
        "id": "UvdlsrfU51SY"
      },
      "outputs": [],
      "source": [
        "#traitement de text méthode automatique\n",
        "\n",
        "def clean_2(text):\n",
        "        return pt.clean(text,\n",
        "                        extra_spaces=True,                          # enlever les espaces en trop s'il y en a\n",
        "                        lemmatize=True,                             # appliquer le lemmatizer\n",
        "                        lowercase = True,                           # mettre tout le texte en minuscule\n",
        "                        sw = True,                                  # enlever les stopwords (anglais)\n",
        "                        stp_lang = \"english\",                       # considerer stopwords en anglais\n",
        "                        numbers = True,                             # enlever les nombres\n",
        "                        punct = True                                # et enlever la ponctuation\n",
        "                      )"
      ]
    },
    {
      "cell_type": "code",
      "execution_count": null,
      "metadata": {
        "id": "P3lJVUW06Jwp"
      },
      "outputs": [],
      "source": [
        "# application de la fonction\n",
        "\n",
        "df_selection[\"description\"] = df_selection[\"description\"].apply(clean_2)"
      ]
    },
    {
      "cell_type": "code",
      "execution_count": null,
      "metadata": {
        "colab": {
          "base_uri": "https://localhost:8080/"
        },
        "id": "sEbMn89C619b",
        "outputId": "45e7a9ed-8000-4c9e-cb88-59556581c4c7"
      },
      "outputs": [
        {
          "name": "stdout",
          "output_type": "stream",
          "text": [
            "|    | country   | description                                                                                                                                                                                     | designation                        |   points |   price | province          | region_1          | taster_name       | title                                                                               | variety            | winery             | Année    |\n",
            "|---:|:----------|:------------------------------------------------------------------------------------------------------------------------------------------------------------------------------------------------|:-----------------------------------|---------:|--------:|:------------------|:------------------|:------------------|:------------------------------------------------------------------------------------|:-------------------|:-------------------|:---------|\n",
            "|  0 | US        | much like regular bottle come across rather rough tannic rustic earthy herbal characteristics nonetheless think pleasantly unfussy country wine good companion hearty winter stew               | Vintner's Reserve Wild Child Block |       87 |      44 | Oregon            | Willamette Valley | Paul Gregutt      | Sweet Cheeks 2018 Vintner's Reserve Wild Child Block Pinot Noir (Willamette Valley) | Pinot Noir         | Sweet Cheeks       | ['2018'] |\n",
            "|  1 | Spain     | blackberry raspberry aromas show typical navarran whiff green herbs case horseradish mouth fairly full body tomatoey acidity spicy herbal flavor complement dark plum fruit finish fresh grabby | Ars In Vitro                       |       87 |      20 | Northern Spain    | Navarra           | Michael Schachner | Tandem 2017 Ars In Vitro Tempranillo-Merlot (Navarra)                               | Tempranillo-Merlot | Tandem             | ['2017'] |\n",
            "|  2 | Italy     | heres bright informal red open aromas candy berry white pepper savory herb carry palate balance fresh acidity soft tannins                                                                      | Belsito                            |       87 |      19 | Sicily & Sardinia | Vittoria          | Kerin O’Keefe     | Terre di Giurfo 2019 Belsito Frappato (Vittoria)                                    | Frappato           | Terre di Giurfo    | ['2019'] |\n",
            "|  3 | France    | great depth flavor fresh apple pear fruit touch spice dry balance acidity crisp texture drink                                                                                                   | Les Natures                        |       87 |      25 | Alsace            | Alsace            | Roger Voss        | Jean-Baptiste Adam 2018 Les Natures Pinot Gris (Alsace)                             | Pinot Gris         | Jean-Baptiste Adam | ['2018'] |\n",
            "|  4 | US        | soft supple plum envelop oaky structure cabernet support merlot coffee chocolate complete picture finish strong end result valuepriced wine attractive flavor immediate accessibility           | Mountain Cuvée                     |       87 |      23 | California        | Napa Valley       | Virginie Boone    | Kirkland Signature 2017 Mountain Cuvée Cabernet Sauvignon (Napa Valley)             | Cabernet Sauvignon | Kirkland Signature | ['2017'] |\n"
          ]
        }
      ],
      "source": [
        "print(df_selection.head().to_markdown())"
      ]
    },
    {
      "cell_type": "markdown",
      "metadata": {
        "id": "IW_j0T9RzHpy"
      },
      "source": [
        "Le texte a bien été expurgé de la ponctuation et des stopwords et ne contient désormais que des mots \"signifiants\""
      ]
    },
    {
      "cell_type": "code",
      "execution_count": null,
      "metadata": {
        "id": "n1AqDtEl69Mw"
      },
      "outputs": [],
      "source": [
        "df_selection.to_csv(\"/content/drive/MyDrive/df_selection.csv\", index = False)"
      ]
    },
    {
      "cell_type": "markdown",
      "metadata": {
        "id": "TGYV8AWmzXfC"
      },
      "source": [
        "## Traitement des données via Power Query"
      ]
    },
    {
      "cell_type": "markdown",
      "metadata": {
        "id": "I_vuOu4Wzea-"
      },
      "source": [
        "Avant d'entamer la création de mon dashboard, il a fallu plusieurs étapes de transformation des données pour pouvoir les utiliser convenablement et en tirer le meilleur parti\n",
        "+ changement de type de données (text to int)\n",
        "+ changement de la devise pour la colonne \"price\"\n",
        "+ repérage des coquilles éventuelles, puis traitement si possible\n",
        "+ gros travail sur la colonne \"Année\" pour retirer les crochets, les guillemets, vérifier les formats...\n"
      ]
    }
  ]
}